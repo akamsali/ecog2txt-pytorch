{
 "cells": [
  {
   "cell_type": "code",
   "execution_count": null,
   "source": [
    "subject_id = \"400\"\n",
    "\n",
    "manifest_path=\"/scratch/gilbreth/akamsali/Research/Makin/ecog2txt-pytorch/conf/mocha-1_word_sequence.yaml\""
   ],
   "outputs": [],
   "metadata": {}
  },
  {
   "cell_type": "code",
   "execution_count": null,
   "source": [
    "from ecog2txt_pytorch.trainers.single_subject_without_cv import SingleSubjectTrainer\n",
    "\n",
    "trainer = SingleSubjectTrainer(subject_id=subject_id, manifest_path=manifest_path)\n",
    "\n",
    "training_metrics = trainer.train_and_evaluate()"
   ],
   "outputs": [],
   "metadata": {}
  },
  {
   "cell_type": "code",
   "execution_count": null,
   "source": [
    "import json\n",
    "\n",
    "with open('mocha1_leftout_metrics.json', 'w') as f:\n",
    "    json.dump(training_metrics,f)"
   ],
   "outputs": [],
   "metadata": {}
  },
  {
   "cell_type": "code",
   "execution_count": null,
   "source": [
    "with open('mocha1_leftout_words.json', 'w') as fwords:\n",
    "    json.dump(words, fwords)"
   ],
   "outputs": [],
   "metadata": {}
  },
  {
   "cell_type": "code",
   "execution_count": null,
   "source": [
    "with open('mocha1_leftout_metrics.json', 'r') as fr:\n",
    "    a = json.load(fr)"
   ],
   "outputs": [],
   "metadata": {}
  },
  {
   "cell_type": "code",
   "execution_count": null,
   "source": [
    "import matplotlib.pyplot as plt\n",
    "import numpy as np\n",
    "\n",
    "epochs = np.arange(1,101)\n",
    "\n",
    "fig, (ax0, ax2) = plt.subplots(nrows=1, ncols=2, sharex=True,\n",
    "                                    figsize=(15, 5))\n",
    "ax0.set_title('loss')\n",
    "#print(a[block]['train_loss'])\n",
    "ax0.plot(epochs, a['train_loss'], color='lightcoral', label='train_loss')\n",
    "ax0.plot(epochs, a['val_loss'], color='mediumpurple', label='val_loss')\n",
    "ax0.set_ylim(0, 10)\n",
    "ax0.set_xlabel(\"Epochs\", fontsize=14)\n",
    "ax0.legend()\n",
    "ax0.grid()\n",
    "\n",
    "ax2.set_title('val_WER')\n",
    "ax2.plot(np.arange(1,11), a['val_WER'], color='black')\n",
    "ax2.set_ylim(0,1.0)\n",
    "ax2.set_xlabel(\"Epochs\", fontsize=14)\n",
    "ax2.grid()\n",
    "fig.suptitle(\"Metrics for Participant A - MOCHA-1 3-train and 23-val\", fontsize=16)\n",
    "    \n",
    "plt.show()"
   ],
   "outputs": [],
   "metadata": {}
  }
 ],
 "metadata": {
  "orig_nbformat": 4,
  "language_info": {
   "name": "python",
   "version": "3.7.11",
   "mimetype": "text/x-python",
   "codemirror_mode": {
    "name": "ipython",
    "version": 3
   },
   "pygments_lexer": "ipython3",
   "nbconvert_exporter": "python",
   "file_extension": ".py"
  },
  "kernelspec": {
   "name": "python3",
   "display_name": "Python 3.7.11 64-bit ('research': conda)"
  },
  "interpreter": {
   "hash": "959b262981f9e08fc72aade93a85a5c75833c8c019f81d8706c5035adb92b56e"
  }
 },
 "nbformat": 4,
 "nbformat_minor": 2
}