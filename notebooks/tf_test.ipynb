{
 "cells": [
  {
   "cell_type": "code",
   "execution_count": 1,
   "metadata": {
    "collapsed": true
   },
   "outputs": [],
   "source": [
    "import tensorflow as tf"
   ]
  },
  {
   "cell_type": "code",
   "execution_count": 2,
   "outputs": [],
   "source": [
    "filenames = [\"/Users/akshita/Documents/Research/Makin/data/ecog2txt/word_sequence/tf_records/EFC400_B10.tfrecord\"]\n",
    "raw_dataset = tf.data.TFRecordDataset(filenames)"
   ],
   "metadata": {
    "collapsed": false,
    "pycharm": {
     "name": "#%%\n"
    }
   }
  },
  {
   "cell_type": "code",
   "execution_count": 3,
   "outputs": [
    {
     "data": {
      "text/plain": "<DatasetV1Adapter shapes: {audio_sequence: (), ecog_sequence: (), phoneme_sequence: (), text_sequence: ()}, types: {audio_sequence: tf.float32, ecog_sequence: tf.float32, phoneme_sequence: tf.string, text_sequence: tf.string}>"
     },
     "execution_count": 3,
     "metadata": {},
     "output_type": "execute_result"
    }
   ],
   "source": [
    "description = {\"audio_sequence\": tf.io.FixedLenFeature([], tf.float32),\n",
    "               \"ecog_sequence\":  tf.io.FixedLenFeature([], tf.float32),\n",
    "               \"text_sequence\":  tf.io.FixedLenFeature([], tf.string),\n",
    "               \"phoneme_sequence\": tf.io.FixedLenFeature([], tf.string)}\n",
    "\n",
    "def _parse_function(example_proto):\n",
    "  # Parse the input tf.train.Example proto using the dictionary above.\n",
    "  return tf.io.parse_single_example(example_proto, description)\n",
    "\n",
    "parsed_dataset = raw_dataset.map(_parse_function)\n",
    "parsed_dataset"
   ],
   "metadata": {
    "collapsed": false,
    "pycharm": {
     "name": "#%%\n"
    }
   }
  }
 ],
 "metadata": {
  "kernelspec": {
   "display_name": "Python 3",
   "language": "python",
   "name": "python3"
  },
  "language_info": {
   "codemirror_mode": {
    "name": "ipython",
    "version": 2
   },
   "file_extension": ".py",
   "mimetype": "text/x-python",
   "name": "python",
   "nbconvert_exporter": "python",
   "pygments_lexer": "ipython2",
   "version": "2.7.6"
  }
 },
 "nbformat": 4,
 "nbformat_minor": 0
}