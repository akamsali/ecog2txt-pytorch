{
 "cells": [
  {
   "cell_type": "code",
   "execution_count": 1,
   "id": "0bc11cd0",
   "metadata": {},
   "outputs": [],
   "source": [
    "subject_id = \"400\"\n",
    "\n",
    "manifest_path=\"/scratch/gilbreth/akamsali/Research/Makin/ecog2txt-pytorch/conf/mocha-1_word_sequence.yaml\""
   ]
  },
  {
   "cell_type": "code",
   "execution_count": null,
   "id": "7d02d1ff",
   "metadata": {},
   "outputs": [
    {
     "name": "stdout",
     "output_type": "stream",
     "text": [
      "Package conflict (probably because you are using TF2.x)...not loading tfmpl...\n",
      "Warning: package 'samplerate' not found; skipping\n"
     ]
    },
    {
     "name": "stderr",
     "output_type": "stream",
     "text": [
      "/scratch/gilbreth/akamsali/Research/Makin/ecog2txt-pytorch/ecog2txt_pytorch/trainers/single_subject_trainer.py:38: YAMLLoadWarning: calling yaml.load() without Loader=... is deprecated, as the default Loader is unsafe. Please read https://msg.pyyaml.org/load for full details.\n",
      "  manifest_file = yaml.load(f)\n",
      "Failed to detect the name of this notebook, you can set it manually with the WANDB_NOTEBOOK_NAME environment variable to enable code saving.\n",
      "\u001b[34m\u001b[1mwandb\u001b[0m: Currently logged in as: \u001b[33makamsali\u001b[0m (use `wandb login --relogin` to force relogin)\n",
      "\u001b[34m\u001b[1mwandb\u001b[0m: wandb version 0.10.33 is available!  To upgrade, please run:\n",
      "\u001b[34m\u001b[1mwandb\u001b[0m:  $ pip install wandb --upgrade\n"
     ]
    },
    {
     "data": {
      "text/html": [
       "\n",
       "                Tracking run with wandb version 0.10.32<br/>\n",
       "                Syncing run <strong style=\"color:#cdcd00\">happy-salad-34</strong> to <a href=\"https://wandb.ai\" target=\"_blank\">Weights & Biases</a> <a href=\"https://docs.wandb.com/integrations/jupyter.html\" target=\"_blank\">(Documentation)</a>.<br/>\n",
       "                Project page: <a href=\"https://wandb.ai/akamsali/ecog2txt-pytorch\" target=\"_blank\">https://wandb.ai/akamsali/ecog2txt-pytorch</a><br/>\n",
       "                Run page: <a href=\"https://wandb.ai/akamsali/ecog2txt-pytorch/runs/nqed82kt\" target=\"_blank\">https://wandb.ai/akamsali/ecog2txt-pytorch/runs/nqed82kt</a><br/>\n",
       "                Run data is saved locally in <code>/scratch/gilbreth/akamsali/Research/Makin/ecog2txt-pytorch/notebooks/wandb/run-20210710_175009-nqed82kt</code><br/><br/>\n",
       "            "
      ],
      "text/plain": [
       "<IPython.core.display.HTML object>"
      ]
     },
     "metadata": {},
     "output_type": "display_data"
    },
    {
     "name": "stdout",
     "output_type": "stream",
     "text": [
      "Epoch: 1, Train loss: 7.148, Val loss: 6.863, Val accuracy: 0.016 Epoch time = 9.928s\n",
      "Epoch: 2, Train loss: 6.804, Val loss: 6.703, Val accuracy: 0.016 Epoch time = 9.191s\n",
      "Epoch: 3, Train loss: 6.643, Val loss: 6.294, Val accuracy: 0.020 Epoch time = 9.193s\n",
      "Epoch: 4, Train loss: 6.339, Val loss: 5.813, Val accuracy: 0.051 Epoch time = 9.289s\n",
      "Epoch: 5, Train loss: 5.954, Val loss: 5.396, Val accuracy: 0.067 Epoch time = 9.097s\n",
      "Epoch: 6, Train loss: 5.543, Val loss: 4.855, Val accuracy: 0.105 Epoch time = 9.084s\n",
      "Epoch: 7, Train loss: 5.138, Val loss: 4.470, Val accuracy: 0.126 Epoch time = 9.196s\n",
      "Epoch: 8, Train loss: 4.762, Val loss: 3.983, Val accuracy: 0.199 Epoch time = 9.142s\n",
      "Epoch: 9, Train loss: 4.384, Val loss: 3.632, Val accuracy: 0.242 Epoch time = 9.073s\n",
      "Epoch: 10, Train loss: 4.050, Val loss: 3.325, Val accuracy: 0.281 Epoch time = 9.309s\n",
      "Epoch: 11, Train loss: 3.743, Val loss: 3.007, Val accuracy: 0.317 Epoch time = 9.061s\n",
      "Epoch: 12, Train loss: 3.436, Val loss: 2.689, Val accuracy: 0.398 Epoch time = 9.187s\n",
      "Epoch: 13, Train loss: 3.145, Val loss: 2.421, Val accuracy: 0.447 Epoch time = 9.059s\n",
      "Epoch: 14, Train loss: 2.882, Val loss: 2.164, Val accuracy: 0.496 Epoch time = 9.065s\n",
      "Epoch: 15, Train loss: 2.644, Val loss: 1.899, Val accuracy: 0.551 Epoch time = 9.103s\n",
      "Epoch: 16, Train loss: 2.402, Val loss: 1.746, Val accuracy: 0.545 Epoch time = 9.118s\n",
      "Epoch: 17, Train loss: 2.172, Val loss: 1.485, Val accuracy: 0.585 Epoch time = 9.075s\n",
      "Epoch: 18, Train loss: 1.954, Val loss: 1.330, Val accuracy: 0.587 Epoch time = 9.073s\n",
      "Epoch: 19, Train loss: 1.774, Val loss: 1.171, Val accuracy: 0.616 Epoch time = 9.056s\n",
      "Epoch: 20, Train loss: 1.596, Val loss: 1.078, Val accuracy: 0.616 Epoch time = 8.991s\n",
      "Epoch: 21, Train loss: 1.414, Val loss: 0.963, Val accuracy: 0.624 Epoch time = 9.114s\n",
      "Epoch: 22, Train loss: 1.260, Val loss: 0.876, Val accuracy: 0.632 Epoch time = 9.116s\n",
      "Epoch: 23, Train loss: 1.121, Val loss: 0.801, Val accuracy: 0.632 Epoch time = 9.238s\n",
      "Epoch: 24, Train loss: 0.989, Val loss: 0.723, Val accuracy: 0.630 Epoch time = 9.114s\n",
      "Epoch: 25, Train loss: 0.868, Val loss: 0.657, Val accuracy: 0.630 Epoch time = 9.081s\n",
      "Epoch: 26, Train loss: 0.759, Val loss: 0.592, Val accuracy: 0.630 Epoch time = 9.044s\n",
      "Epoch: 27, Train loss: 0.661, Val loss: 0.550, Val accuracy: 0.642 Epoch time = 9.111s\n",
      "Epoch: 28, Train loss: 0.579, Val loss: 0.531, Val accuracy: 0.636 Epoch time = 9.041s\n",
      "Epoch: 29, Train loss: 0.499, Val loss: 0.502, Val accuracy: 0.632 Epoch time = 9.132s\n",
      "Epoch: 30, Train loss: 0.443, Val loss: 0.472, Val accuracy: 0.638 Epoch time = 9.045s\n",
      "Epoch: 31, Train loss: 0.381, Val loss: 0.433, Val accuracy: 0.642 Epoch time = 9.015s\n",
      "Epoch: 32, Train loss: 0.330, Val loss: 0.434, Val accuracy: 0.636 Epoch time = 9.084s\n",
      "Epoch: 33, Train loss: 0.283, Val loss: 0.406, Val accuracy: 0.642 Epoch time = 9.016s\n",
      "Epoch: 34, Train loss: 0.243, Val loss: 0.393, Val accuracy: 0.634 Epoch time = 9.055s\n",
      "Epoch: 35, Train loss: 0.203, Val loss: 0.387, Val accuracy: 0.634 Epoch time = 9.156s\n",
      "Epoch: 36, Train loss: 0.180, Val loss: 0.375, Val accuracy: 0.636 Epoch time = 9.117s\n",
      "Epoch: 37, Train loss: 0.149, Val loss: 0.367, Val accuracy: 0.638 Epoch time = 9.061s\n"
     ]
    }
   ],
   "source": [
    "from ecog2txt_pytorch.trainers.single_subject_trainer import SingleSubjectTrainer\n",
    "\n",
    "trainer = SingleSubjectTrainer(subject_id=subject_id, manifest_path=manifest_path)\n",
    "\n",
    "trainer.train_and_evaluate()"
   ]
  }
 ],
 "metadata": {
  "kernelspec": {
   "display_name": "Python 3",
   "language": "python",
   "name": "python3"
  },
  "language_info": {
   "codemirror_mode": {
    "name": "ipython",
    "version": 3
   },
   "file_extension": ".py",
   "mimetype": "text/x-python",
   "name": "python",
   "nbconvert_exporter": "python",
   "pygments_lexer": "ipython3",
   "version": "3.6.8"
  }
 },
 "nbformat": 4,
 "nbformat_minor": 5
}
