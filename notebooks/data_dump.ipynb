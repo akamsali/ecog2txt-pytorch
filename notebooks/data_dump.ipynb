{
 "cells": [
  {
   "cell_type": "code",
   "execution_count": 1,
   "source": [
    "from torch.nn.utils.rnn import pad_sequence\n",
    "from tfrecord_lite import tf_record_iterator\n",
    "from tfrecord.torch.dataset import TFRecordDataset\n",
    "import torch.utils.data as tdata\n",
    "import torch\n",
    "\n",
    "import json"
   ],
   "outputs": [],
   "metadata": {}
  },
  {
   "cell_type": "code",
   "execution_count": 2,
   "source": [
    "block_config_path = '/scratch/gilbreth/akamsali/Research/Makin/ecog2txt-pytorch/conf/block_breakdowns.json'\n",
    "tfrecord_path = '/depot/jgmakin/data/ecog2txt/word_sequence/tf_records'\n",
    "\n",
    "subjects = ['400', '401', '402', '403']\n",
    "\n",
    "\n",
    "with open(block_config_path) as bf:\n",
    "    block_config_all = json.load(bf)"
   ],
   "outputs": [],
   "metadata": {}
  },
  {
   "cell_type": "code",
   "execution_count": 17,
   "source": [
    "block_config = block_config_all['400']\n",
    "filtered_files = list(\n",
    "            map(lambda y: tfrecord_path + \"/EFC400\" + \"_B\" + y[0] + \".tfrecord\", \n",
    "                 block_config.items()))"
   ],
   "outputs": [],
   "metadata": {}
  },
  {
   "cell_type": "code",
   "execution_count": null,
   "source": [
    "\n",
    "files = {}\n",
    "for subject_id in subjects:\n",
    "    block_config = block_config_all[subject_id]\n",
    "\n",
    "    keys = list(block_config.keys())\n",
    "    files[subject_id] = list(map(lambda y: tfrecord_path + \"/EFC\" + subject_id + \"_B\" + y + \".tfrecord\", keys))"
   ],
   "outputs": [],
   "metadata": {}
  }
 ],
 "metadata": {
  "orig_nbformat": 4,
  "language_info": {
   "name": "python",
   "version": "3.7.11",
   "mimetype": "text/x-python",
   "codemirror_mode": {
    "name": "ipython",
    "version": 3
   },
   "pygments_lexer": "ipython3",
   "nbconvert_exporter": "python",
   "file_extension": ".py"
  },
  "kernelspec": {
   "name": "python3",
   "display_name": "Python 3.7.11 64-bit ('research': conda)"
  },
  "interpreter": {
   "hash": "959b262981f9e08fc72aade93a85a5c75833c8c019f81d8706c5035adb92b56e"
  }
 },
 "nbformat": 4,
 "nbformat_minor": 2
}