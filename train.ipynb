{
 "cells": [
  {
   "cell_type": "code",
   "execution_count": 1,
   "metadata": {
    "collapsed": true
   },
   "outputs": [
    {
     "data": {
      "text/plain": "<Figure size 2880x2880 with 0 Axes>"
     },
     "metadata": {},
     "output_type": "display_data"
    }
   ],
   "source": [
    "import ecog2txt.trainers as e2t_trainers\n",
    "import ecog2txt.data_generators"
   ]
  },
  {
   "cell_type": "code",
   "execution_count": 2,
   "outputs": [
    {
     "ename": "FileNotFoundError",
     "evalue": "[Errno 2] No such file or directory: '/home/akshita/Documents/Makin/ecog2txt/ecog2txt/auxiliary/conf/mocha-1_word_sequence.yaml'",
     "output_type": "error",
     "traceback": [
      "\u001B[0;31m---------------------------------------------------------------------------\u001B[0m",
      "\u001B[0;31mFileNotFoundError\u001B[0m                         Traceback (most recent call last)",
      "\u001B[0;32m<ipython-input-2-5d2a23c8b601>\u001B[0m in \u001B[0;36m<module>\u001B[0;34m\u001B[0m\n\u001B[1;32m     13\u001B[0m         'data_mapping': {           # overwriting whatever is in the manifest\n\u001B[1;32m     14\u001B[0m             \u001B[0;34m'encoder_inputs'\u001B[0m\u001B[0;34m:\u001B[0m \u001B[0;34m'ecog_sequence'\u001B[0m\u001B[0;34m,\u001B[0m\u001B[0;34m\u001B[0m\u001B[0;34m\u001B[0m\u001B[0m\n\u001B[0;32m---> 15\u001B[0;31m             \u001B[0;34m'decoder_targets'\u001B[0m\u001B[0;34m:\u001B[0m \u001B[0;34m'text_sequence'\u001B[0m\u001B[0;34m,\u001B[0m\u001B[0;34m\u001B[0m\u001B[0;34m\u001B[0m\u001B[0m\n\u001B[0m\u001B[1;32m     16\u001B[0m         },\n\u001B[1;32m     17\u001B[0m     },\n",
      "\u001B[0;32m~/Documents/Makin/ecog2txt/ecog2txt/trainers.py\u001B[0m in \u001B[0;36m__init__\u001B[0;34m(self, experiment_manifest_name, subject_ids, checkpoint_dir, restore_epoch, SN_kwargs, DG_kwargs, RP_kwargs, ES_kwargs, VERBOSE, **kwargs)\u001B[0m\n\u001B[1;32m     50\u001B[0m \u001B[0;34m\u001B[0m\u001B[0m\n\u001B[1;32m     51\u001B[0m         \u001B[0;31m# load the experiment_manifest\u001B[0m\u001B[0;34m\u001B[0m\u001B[0;34m\u001B[0m\u001B[0;34m\u001B[0m\u001B[0m\n\u001B[0;32m---> 52\u001B[0;31m         \u001B[0;32mwith\u001B[0m \u001B[0mopen\u001B[0m\u001B[0;34m(\u001B[0m\u001B[0mos\u001B[0m\u001B[0;34m.\u001B[0m\u001B[0mpath\u001B[0m\u001B[0;34m.\u001B[0m\u001B[0mjoin\u001B[0m\u001B[0;34m(\u001B[0m\u001B[0mtext_dir\u001B[0m\u001B[0;34m,\u001B[0m \u001B[0mexperiment_manifest_name\u001B[0m\u001B[0;34m)\u001B[0m\u001B[0;34m)\u001B[0m \u001B[0;32mas\u001B[0m \u001B[0mfile\u001B[0m\u001B[0;34m:\u001B[0m\u001B[0;34m\u001B[0m\u001B[0;34m\u001B[0m\u001B[0m\n\u001B[0m\u001B[1;32m     53\u001B[0m             \u001B[0mself\u001B[0m\u001B[0;34m.\u001B[0m\u001B[0mexperiment_manifest\u001B[0m \u001B[0;34m=\u001B[0m \u001B[0myaml\u001B[0m\u001B[0;34m.\u001B[0m\u001B[0mfull_load\u001B[0m\u001B[0;34m(\u001B[0m\u001B[0mfile\u001B[0m\u001B[0;34m)\u001B[0m\u001B[0;34m\u001B[0m\u001B[0;34m\u001B[0m\u001B[0m\n\u001B[1;32m     54\u001B[0m \u001B[0;34m\u001B[0m\u001B[0m\n",
      "\u001B[0;31mFileNotFoundError\u001B[0m: [Errno 2] No such file or directory: '/home/akshita/Documents/Makin/ecog2txt/ecog2txt/auxiliary/conf/mocha-1_word_sequence.yaml'"
     ]
    }
   ],
   "source": [
    "\n",
    "# CREATE A NEW MODEL\n",
    "trainer = e2t_trainers.MultiSubjectTrainer(\n",
    "    experiment_manifest_name=\"conf/mocha-1_word_sequence.yaml\",\n",
    "    subject_ids=[400, 401],\n",
    "    SN_kwargs={\n",
    "        'FF_dropout': 0.4,          # overwriting whatever is in the manifest\n",
    "        'TEMPORALLY_CONVOLVE': True # overwriting whatever is in the manifest\n",
    "    },\n",
    "    DG_kwargs={\n",
    "        'REFERENCE_BIPOLAR': True,  # overwriting whatever is in the manifest\n",
    "    },\n",
    "    ES_kwargs = {\n",
    "        'data_mapping': {           # overwriting whatever is in the manifest\n",
    "            'encoder_inputs': 'ecog_sequence',\n",
    "            'decoder_targets': 'text_sequence',\n",
    "        },\n",
    "    },\n",
    ")"
   ],
   "metadata": {
    "collapsed": false,
    "pycharm": {
     "name": "#%%\n"
    }
   }
  },
  {
   "cell_type": "code",
   "execution_count": null,
   "outputs": [],
   "source": [
    "# MAKE SURE ALL THE TFRECORDS ARE WRITTEN\n",
    "for subject in trainer.ecog_subjects:\n",
    "    subject.write_tf_records_maybe()\n",
    "trainer.subject_to_table()"
   ],
   "metadata": {
    "collapsed": false,
    "pycharm": {
     "name": "#%%\n"
    }
   }
  },
  {
   "cell_type": "code",
   "execution_count": null,
   "outputs": [],
   "source": [
    "# TRAIN THE TWO SUBJECTS IN PARALLEL\n",
    "assessments = trainer.parallel_transfer_learn()"
   ],
   "metadata": {
    "collapsed": false,
    "pycharm": {
     "name": "#%%\n"
    }
   }
  }
 ],
 "metadata": {
  "kernelspec": {
   "display_name": "Python 3",
   "language": "python",
   "name": "python3"
  },
  "language_info": {
   "codemirror_mode": {
    "name": "ipython",
    "version": 2
   },
   "file_extension": ".py",
   "mimetype": "text/x-python",
   "name": "python",
   "nbconvert_exporter": "python",
   "pygments_lexer": "ipython2",
   "version": "2.7.6"
  }
 },
 "nbformat": 4,
 "nbformat_minor": 0
}